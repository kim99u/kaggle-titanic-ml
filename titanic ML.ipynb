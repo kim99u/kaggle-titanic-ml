{
 "cells": [
  {
   "cell_type": "code",
   "execution_count": 1,
   "metadata": {},
   "outputs": [],
   "source": [
    "import numpy as np \n",
    "import pandas as pd\n",
    "\n",
    "import easydict\n",
    "args = easydict.EasyDict()\n",
    "\n",
    "#path\n",
    "args.default_path = 'C:/Users/rladb/workspace/data/kagglecomp/'\n",
    "args.train_csv =args.default_path +'train.csv'\n",
    "args.test_csv = args.default_path +'test.csv'\n",
    "args.submi_csv = args.default_path +'submission.csv'\n",
    "args.submi_csv_0306 = args.default_path + 'submi0306'\n",
    "#변수\n",
    "SEED = 35"
   ]
  },
  {
   "cell_type": "code",
   "execution_count": 2,
   "metadata": {},
   "outputs": [],
   "source": [
    "o_train = pd.read_csv(args.train_csv)\n",
    "o_test = pd.read_csv(args.test_csv)"
   ]
  },
  {
   "cell_type": "code",
   "execution_count": 3,
   "metadata": {},
   "outputs": [
    {
     "data": {
      "text/plain": [
       "((687, 11), (229, 11), (687,), (229,))"
      ]
     },
     "execution_count": 3,
     "metadata": {},
     "output_type": "execute_result"
    }
   ],
   "source": [
    "X = o_train.drop(['survived'], axis=1)\n",
    "y = o_train['survived']\n",
    "\n",
    "from sklearn.model_selection import train_test_split\n",
    "X_tr, X_te, y_tr, y_te = train_test_split(X, y, test_size=0.25, stratify=y, random_state=SEED)\n",
    "X_tr.shape, X_te.shape, y_tr.shape, y_te.shape"
   ]
  },
  {
   "cell_type": "code",
   "execution_count": 4,
   "metadata": {},
   "outputs": [],
   "source": [
    "train = X_tr.copy()\n",
    "test = X_te.copy()\n",
    "o_te = o_test.copy()\n",
    "\n",
    "dfs = [train, test, o_te]"
   ]
  },
  {
   "cell_type": "code",
   "execution_count": 5,
   "metadata": {},
   "outputs": [],
   "source": [
    "#fill, map, encode\n",
    "age_median = o_train['age'].median()\n",
    "fare_median = o_train['fare'].median()\n",
    "embarked_mode = o_train['embarked'].mode().values[0]\n",
    "\n",
    "for df in dfs:\n",
    "    df['title'] = df.name.str.extract(' ([A-Za-z]+)\\.', expand=False)\n",
    "    df['title'] = df['title'].replace(['Lady', 'Countess','Capt', 'Col',\\\n",
    " \t    'Don', 'Dr', 'Major', 'Rev', 'Sir', 'Jonkheer', 'Dona'], 'Other')\n",
    "    df['title'] = df['title'].replace(['Mlle', 'Ms'], 'Miss')\n",
    "    df['title'] = df['title'].replace('Mme', 'Mrs')\n",
    "    df['age'].fillna(age_median, inplace=True)\n",
    "    df['fare'].fillna(fare_median, inplace=True)\n",
    "    df['embarked'].fillna(embarked_mode, inplace=True)\n",
    "    df['gender'] = df['gender'].map({'male': 0, 'female': 1}).astype(bool)\n",
    "    df['title'] = df['title'].map({\"Mr\": 1, \"Miss\": 2, \"Mrs\": 3, \"Master\": 4, \"Other\": 5})\n",
    "    df['embarked_C']=(df['embarked']=='C')\n",
    "    df['embarked_S']=(df['embarked']=='S')\n",
    "    df['embarked_Q']=(df['embarked']=='Q')"
   ]
  },
  {
   "cell_type": "code",
   "execution_count": 6,
   "metadata": {},
   "outputs": [],
   "source": [
    "#drop\n",
    "dropcols = ['ticket', 'cabin', 'name', 'embarked']\n",
    "for df in dfs:\n",
    "    df.drop(dropcols, axis=1, inplace=True)\n",
    "\n",
    "train.drop('passengerid', axis=1, inplace=True)\n",
    "test.drop('passengerid', axis=1, inplace=True)\n",
    "o_te.set_index(['passengerid'], inplace=True)"
   ]
  },
  {
   "cell_type": "code",
   "execution_count": 7,
   "metadata": {},
   "outputs": [
    {
     "data": {
      "text/plain": [
       "(0.883551673944687, 0.868995633187773)"
      ]
     },
     "execution_count": 7,
     "metadata": {},
     "output_type": "execute_result"
    }
   ],
   "source": [
    "from sklearn.ensemble import RandomForestClassifier\n",
    "RFChp = {\n",
    "    \"random_state\": SEED,\n",
    "    \"max_features\": \"sqrt\", # None 을 줄경우 전체피쳐 사용 \n",
    "    \"n_estimators\": 100, # 트리개수 \n",
    "    \"max_depth\": 10,\n",
    "    \"min_samples_split\": 10,\n",
    "    \"min_samples_leaf\": 3,\n",
    "}\n",
    "RFC = RandomForestClassifier(**RFChp).fit(train, y_tr)\n",
    "\n",
    "RFC.score(train, y_tr), RFC.score(test, y_te)"
   ]
  },
  {
   "cell_type": "code",
   "execution_count": 8,
   "metadata": {},
   "outputs": [
    {
     "data": {
      "text/plain": [
       "(0.8573508005822417, 0.8777292576419214)"
      ]
     },
     "execution_count": 8,
     "metadata": {},
     "output_type": "execute_result"
    }
   ],
   "source": [
    "from xgboost import XGBClassifier\n",
    "XGBhp = {\n",
    "    \"random_state\": SEED,\n",
    "    \"max_depth\": 2,\n",
    "    \"n_estimators\": 100, # 수행할 부스팅 단계 수\n",
    "    \"learning_rate\": 0.01,\n",
    "    \"min_child_weight\": 2,\n",
    "    \"gamma\": 1,\n",
    "}\n",
    "\n",
    "XGB = XGBClassifier(**XGBhp).fit(train, y_tr)\n",
    "\n",
    "XGB.score(train, y_tr), XGB.score(test, y_te)"
   ]
  },
  {
   "cell_type": "code",
   "execution_count": 9,
   "metadata": {},
   "outputs": [
    {
     "data": {
      "text/plain": [
       "(0.8719068413391557, 0.868995633187773)"
      ]
     },
     "execution_count": 9,
     "metadata": {},
     "output_type": "execute_result"
    }
   ],
   "source": [
    "from catboost import CatBoostClassifier\n",
    "CAThp = {\n",
    "    \"random_state\": SEED,\n",
    "    \"max_depth\" : 2,\n",
    "    \"n_estimators\" : 100,\n",
    "    \"verbose\": 0 # 부스팅 단계 출력 안보이게 하기\n",
    "}\n",
    "\n",
    "CAT = CatBoostClassifier(**CAThp).fit(train, y_tr)\n",
    "\n",
    "CAT.score(train, y_tr), CAT.score(test, y_te)"
   ]
  },
  {
   "cell_type": "code",
   "execution_count": 10,
   "metadata": {},
   "outputs": [
    {
     "data": {
      "text/plain": [
       "(0.8733624454148472, 0.8646288209606987)"
      ]
     },
     "execution_count": 10,
     "metadata": {},
     "output_type": "execute_result"
    }
   ],
   "source": [
    "from sklearn.ensemble import VotingClassifier\n",
    "VOTestimators = [\n",
    "    (\"RFC\", RandomForestClassifier(**RFChp)),\n",
    "    (\"XGB\", XGBClassifier(**XGBhp)),\n",
    "    (\"CAT\", CatBoostClassifier(**CAThp))\n",
    "]\n",
    "VOThp = {\n",
    "    \"estimators\" : VOTestimators,\n",
    "    \"voting\" : \"soft\"\n",
    "}\n",
    "VOT = VotingClassifier(**VOThp).fit(train, y_tr)\n",
    "\n",
    "VOT.score(train, y_tr), VOT.score(test, y_te)"
   ]
  },
  {
   "cell_type": "code",
   "execution_count": 11,
   "metadata": {},
   "outputs": [
    {
     "data": {
      "text/plain": [
       "(0.8806404657933042, 0.868995633187773)"
      ]
     },
     "execution_count": 11,
     "metadata": {},
     "output_type": "execute_result"
    }
   ],
   "source": [
    "from sklearn.ensemble import StackingClassifier\n",
    "SCestimators = [\n",
    "    (\"RFC\", RandomForestClassifier(**RFChp)),\n",
    "    (\"XGB\", XGBClassifier(**XGBhp)),\n",
    "    (\"CAT\", CatBoostClassifier(**CAThp))\n",
    "]\n",
    "SChp = {\n",
    "    \"estimators\" : SCestimators,\n",
    "    \"final_estimator\" : VotingClassifier(**VOThp)\n",
    "}\n",
    "\n",
    "SC = StackingClassifier(**SChp,n_jobs=-1).fit(train, y_tr)\n",
    "\n",
    "SC.score(train, y_tr), SC.score(test, y_te)"
   ]
  },
  {
   "cell_type": "code",
   "execution_count": 14,
   "metadata": {},
   "outputs": [],
   "source": [
    "test_pred_SC = SC.predict_proba(o_te)[:,1]"
   ]
  },
  {
   "cell_type": "code",
   "execution_count": 15,
   "metadata": {},
   "outputs": [],
   "source": [
    "submi = pd.read_csv(args.submi_csv)"
   ]
  },
  {
   "cell_type": "code",
   "execution_count": 16,
   "metadata": {},
   "outputs": [],
   "source": [
    "submi['survived'] = test_pred_SC\n",
    "submi.to_csv(args.submi_csv_0306+'_00.csv', header=True, index=False)"
   ]
  }
 ],
 "metadata": {
  "kernelspec": {
   "display_name": ".venv",
   "language": "python",
   "name": "python3"
  },
  "language_info": {
   "codemirror_mode": {
    "name": "ipython",
    "version": 3
   },
   "file_extension": ".py",
   "mimetype": "text/x-python",
   "name": "python",
   "nbconvert_exporter": "python",
   "pygments_lexer": "ipython3",
   "version": "3.10.10"
  },
  "orig_nbformat": 4,
  "vscode": {
   "interpreter": {
    "hash": "d3b4528b50faa222c037a9267e7b6b413457596426b6388aac60fc51b5189fc0"
   }
  }
 },
 "nbformat": 4,
 "nbformat_minor": 2
}
